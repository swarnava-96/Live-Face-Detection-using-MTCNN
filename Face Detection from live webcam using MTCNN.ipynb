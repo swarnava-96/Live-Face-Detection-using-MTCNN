{
 "cells": [
  {
   "cell_type": "code",
   "execution_count": 1,
   "id": "38996c91",
   "metadata": {},
   "outputs": [],
   "source": [
    "### Face Detection from li"
   ]
  },
  {
   "cell_type": "code",
   "execution_count": 3,
   "id": "bc47b115",
   "metadata": {},
   "outputs": [],
   "source": [
    "# Importing the dependencies\n",
    "import cv2\n",
    "from mtcnn import MTCNN\n",
    "\n",
    "# Lets use webcam to capture video\n",
    "cap = cv2.VideoCapture(0)\n",
    "\n",
    "# Lets initialize the mtcnn object\n",
    "detector = MTCNN()\n",
    "\n",
    "# Lets capture webcam recordings and detect faces\n",
    "while True:\n",
    "    ret, frame = cap.read()\n",
    "    \n",
    "    output = detector.detect_faces(frame)\n",
    "    \n",
    "    for single_output in output:\n",
    "        x,y,w,h = single_output[\"box\"]\n",
    "        cv2.rectangle(frame, pt1 = (x,y), pt2 = (x+w,y+h), color = (255,0,0), thickness = 3)\n",
    "    \n",
    "    cv2.imshow(\"window\", frame)\n",
    "    \n",
    "    if cv2.waitKey(1) & 0xFF == ord(\"x\"):\n",
    "        break\n",
    "\n",
    "cv2.destroyAllWindows()"
   ]
  },
  {
   "cell_type": "code",
   "execution_count": null,
   "id": "da132d6c",
   "metadata": {},
   "outputs": [],
   "source": []
  }
 ],
 "metadata": {
  "kernelspec": {
   "display_name": "Python 3 (ipykernel)",
   "language": "python",
   "name": "python3"
  },
  "language_info": {
   "codemirror_mode": {
    "name": "ipython",
    "version": 3
   },
   "file_extension": ".py",
   "mimetype": "text/x-python",
   "name": "python",
   "nbconvert_exporter": "python",
   "pygments_lexer": "ipython3",
   "version": "3.7.11"
  }
 },
 "nbformat": 4,
 "nbformat_minor": 5
}
